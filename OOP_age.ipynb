{
 "cells": [
  {
   "cell_type": "code",
   "execution_count": 17,
   "id": "0fa9da05-b279-43eb-a4ef-7aadb7501251",
   "metadata": {},
   "outputs": [],
   "source": [
    "from datetime import date"
   ]
  },
  {
   "cell_type": "code",
   "execution_count": 117,
   "id": "add7c0b4-8567-4a55-a93c-1934fe764bb5",
   "metadata": {},
   "outputs": [],
   "source": [
    "class Person:\n",
    "    def __init__ (self, name, country, date_of_birth):\n",
    "        self.name = name\n",
    "        self.country = country\n",
    "        self.date_of_birth  = date_of_birth\n",
    "        \n",
    "    def calculate_age(self):\n",
    "        today = date.today()\n",
    "        year_of_birth = self.date_of_birth.year\n",
    "        age = today.year - year_of_birth\n",
    "        return age\n"
   ]
  },
  {
   "cell_type": "code",
   "execution_count": 119,
   "id": "6a391a01-fd9c-4e6d-be6a-e599acab1f7d",
   "metadata": {},
   "outputs": [],
   "source": [
    "person1 = Person(\"Ferdi Odilia\", \"France\", date(1962, 7, 12))\n",
    "person2 = Person(\"Shweta Maddox\", \"Canada\", date(1982, 10, 20))\n",
    "person3 = Person(\"Elizaveta Tilman\", \"USA\", date(2000, 1, 1))"
   ]
  },
  {
   "cell_type": "code",
   "execution_count": 123,
   "id": "b7a224e6-d602-40d7-8821-18fd08846f67",
   "metadata": {},
   "outputs": [
    {
     "name": "stdout",
     "output_type": "stream",
     "text": [
      "Person 1:\n",
      "Name: Ferdi Odilia\n",
      "Country: France\n",
      "Date of Birth: 1962-07-12\n",
      "Age: 63\n"
     ]
    }
   ],
   "source": [
    "print(\"Person 1:\")\n",
    "print(\"Name:\", person1.name)\n",
    "print(\"Country:\", person1.country)\n",
    "print(\"Date of Birth:\", person1.date_of_birth)\n",
    "print(\"Age:\", person1.calculate_age())"
   ]
  },
  {
   "cell_type": "code",
   "execution_count": null,
   "id": "a55c394a-e8cc-48d8-ab9a-224e40c78318",
   "metadata": {},
   "outputs": [],
   "source": []
  },
  {
   "cell_type": "code",
   "execution_count": null,
   "id": "9e7b19b4-71c5-40d4-b4ab-1cc5917fa00b",
   "metadata": {},
   "outputs": [],
   "source": []
  },
  {
   "cell_type": "code",
   "execution_count": null,
   "id": "629b6ea8-112b-4cd7-a3ab-eda258cf41e8",
   "metadata": {},
   "outputs": [],
   "source": []
  }
 ],
 "metadata": {
  "kernelspec": {
   "display_name": "Python [conda env:base] *",
   "language": "python",
   "name": "conda-base-py"
  },
  "language_info": {
   "codemirror_mode": {
    "name": "ipython",
    "version": 3
   },
   "file_extension": ".py",
   "mimetype": "text/x-python",
   "name": "python",
   "nbconvert_exporter": "python",
   "pygments_lexer": "ipython3",
   "version": "3.12.7"
  }
 },
 "nbformat": 4,
 "nbformat_minor": 5
}
