{
 "cells": [
  {
   "cell_type": "code",
   "execution_count": 75,
   "id": "d65e5eb9-e11e-4c4b-ab73-65b7e10af10d",
   "metadata": {},
   "outputs": [
    {
     "name": "stdout",
     "output_type": "stream",
     "text": [
      "Requirement already satisfied: tabulate in /opt/anaconda3/lib/python3.12/site-packages (0.9.0)\n",
      "Note: you may need to restart the kernel to use updated packages.\n"
     ]
    }
   ],
   "source": [
    "%pip install tabulate"
   ]
  },
  {
   "cell_type": "code",
   "execution_count": 76,
   "id": "d2611284-95c2-4669-989e-fda42aba19b2",
   "metadata": {},
   "outputs": [],
   "source": [
    "from tabulate import tabulate"
   ]
  },
  {
   "cell_type": "code",
   "execution_count": 79,
   "id": "0e5e1396-4491-4ebf-b2e3-a645deaec2fd",
   "metadata": {},
   "outputs": [
    {
     "name": "stdout",
     "output_type": "stream",
     "text": [
      "-----------  -------------  ------------  ----------\n",
      "Basic Plan   Standard Plan  Premium Plan  Basic Plan\n",
      "12           24             5             11\n",
      "shandy-2134  cahya-abcd     ana-2f9g      bagus-9f92\n",
      "-----------  -------------  ------------  ----------\n"
     ]
    }
   ],
   "source": [
    "data = {\n",
    "    \"Shandy\": [\"Basic Plan\", 12, \"shandy-2134\"],\n",
    "    \"Cahya\": [\"Standard Plan\", 24, \"cahya-abcd\"],\n",
    "    \"Ana\": [\"Premium Plan\", 5, \"ana-2f9g\"],\n",
    "    \"Bagus\": [\"Basic Plan\", 11, \"bagus-9f92\"]\n",
    "}\n",
    "\n",
    "print(tabulate(data))"
   ]
  },
  {
   "cell_type": "code",
   "execution_count": null,
   "id": "79986680-a3e9-4794-b5a8-1b097f8c05e1",
   "metadata": {},
   "outputs": [],
   "source": [
    "data_plan = {\n",
    "    \"Basic Plan\" : [True, True, True, False, False, 1, \"3rd Party Movie only\", 120_000],\n",
    "    \"Standard Plan\" : [True, True, True, True, False, 2, \"Basic Plan Content + Sports\", 160_000],\n",
    "    \"Premium Plan\" : [True, True, True, False, False, 4, \"Basic Plan + Standard Plan + PacFlix Original Series\", 200_000],\n",
    "    \"Services\" : [\"Bisa Stream\",\"Bisa Download\",\"Kualitas SD\",\"Kualitas HD\",\"Kualitas UHD\",\"Number of Devices\",\"Jenis Konten\",\"Harga\"]\n",
    "}\n",
    "\n",
    "print(tabulate(data_plan, headers=\"keys\"))"
   ]
  },
  {
   "cell_type": "code",
   "execution_count": 533,
   "id": "62dbbb29-38d7-4475-b039-7b611d6aafe0",
   "metadata": {},
   "outputs": [],
   "source": [
    "class User:\n",
    "    data_user = data\n",
    "    \n",
    "    def __init__(self, username, current_plan, duration_plan):\n",
    "        self.username = username\n",
    "        self.current_plan = current_plan\n",
    "        self.duration_plan = duration_plan\n",
    "        \n",
    "    def check_benefit(self):\n",
    "        self.data_plan = {\n",
    "                \"Basic Plan\" : [True, True, True, False, False, 1, \"3rd Party Movie only\", 120_000],\n",
    "                \"Standard Plan\" : [True, True, True, True, False, 2, \"Basic Plan Content + Sports\", 160_000],\n",
    "                \"Premium Plan\" : [True, True, True, False, False, 4, \"Basic Plan + Standard Plan + PacFlix Original Series\", 200_000],\n",
    "                \"Services\" : [\"Bisa Stream\",\"Bisa Download\",\"Kualitas SD\",\"Kualitas HD\",\"Kualitas UHD\",\"Number of Devices\",\"Jenis Konten\",\"Harga\"]\n",
    "        }\n",
    "        print(\"PacFlix plan list\\n\")   \n",
    "        print(tabulate(data_plan, headers=\"keys\"))\n",
    "        \n",
    "    def check_plan(self, username):\n",
    "        try:\n",
    "            get_data = self.data_user[username]\n",
    "        except:\n",
    "            raise exception(\"Username is not found\")\n",
    "            \n",
    "        current_plan = get_data[0]\n",
    "        duration_plan = get_data[1]\n",
    "        user_pw = get_data[2]\n",
    "            \n",
    "        print(current_plan)\n",
    "        print(duration_plan,\"bulan\")\n",
    "        \n",
    "        print(f'{current_plan} PacFlix Benefit list\\n')\n",
    "        print(tabulate({\n",
    "                current_plan: data_plan[current_plan], \n",
    "                \"Services\": data_plan[\"Services\"]\n",
    "            },headers=\"keys\"))\n",
    "            \n",
    "    def upgrade_plan(self, username, current_plan, new_plan):\n",
    "\n",
    "        if new_plan != self.current_plan:\n",
    "            if self.duration_plan > 12:\n",
    "                if new_plan == \"Basic Plan\":\n",
    "                    total = 120_000 - (120_000 * 0.05)\n",
    "                    return total\n",
    "                elif new_plan == \"Standard Plan\":\n",
    "                    total = 160_000 - (160_000 * 0.05)\n",
    "                    return total\n",
    "                elif new_plan == \"Premium Plan\":\n",
    "                    total = 200_000 - (200_000 * 0.05)\n",
    "                    return total\n",
    "                else:\n",
    "                    raise Exception(\"Plan didn't exist\")\n",
    "            else:\n",
    "                if new_plan == \"Basic Plan\":\n",
    "                    total = 120_000\n",
    "                    return total\n",
    "                elif new_plan == \"Standard Plan\":\n",
    "                    total = 160_000\n",
    "                    return total\n",
    "                elif new_plan == \"Premium Plan\":\n",
    "                    total = 200_000\n",
    "                    return total\n"
   ]
  },
  {
   "cell_type": "code",
   "execution_count": 543,
   "id": "91a01b95-6b8f-4602-9120-9de278c54161",
   "metadata": {},
   "outputs": [
    {
     "name": "stdout",
     "output_type": "stream",
     "text": [
      "Username: Shandy\n",
      "Current Plan: Basic Plan\n",
      "Duration: 17 Bulan\n"
     ]
    }
   ],
   "source": [
    "user_1 = User(username= \"Shandy\", duration_plan= 17, current_plan=\"Basic Plan\")\n",
    "user_2 = User(\"Cahya\", 24, \"Premium Plan\")\n",
    "\n",
    "print(f'Username: {user_1.username}')\n",
    "print(f'Current Plan: {user_1.current_plan}')\n",
    "print(f'Duration: {user_1.duration_plan} Bulan')"
   ]
  },
  {
   "cell_type": "code",
   "execution_count": 545,
   "id": "74a59aa0-9827-4c15-abef-df962d86dd39",
   "metadata": {},
   "outputs": [
    {
     "data": {
      "text/plain": [
       "190000.0"
      ]
     },
     "execution_count": 545,
     "metadata": {},
     "output_type": "execute_result"
    }
   ],
   "source": [
    "user_1.upgrade_plan(user_1.current_plan, current_plan=\"Basic Plan\", new_plan=\"Premium Plan\")"
   ]
  },
  {
   "cell_type": "code",
   "execution_count": 568,
   "id": "c63b890b-8eac-4f5a-974e-ae515445fdff",
   "metadata": {},
   "outputs": [],
   "source": [
    "class NewUser:\n",
    "    \n",
    "    check_list = []\n",
    "    \n",
    "    def __init__(self, username):\n",
    "        self.username = username\n",
    "    \n",
    "    # method to dictionary to list to easier use\n",
    "    def convert_data_to_list(self, data):\n",
    "        for data in data.values():\n",
    "            for val in data:\n",
    "                self.check_list.append(val)\n",
    "                \n",
    "        return self.check_list\n",
    "        \n",
    "    # method to pick plan \n",
    "    def pick_plan(self, new_plan, referral_code):\n",
    "        if referral_code in self.check_list:\n",
    "            if new_plan == \"Basic Plan\":\n",
    "                total = 120_000 - (120_000 * 0.04)\n",
    "                return total\n",
    "            elif new_plan == \"Standard Plan\":\n",
    "                total = 160_000 - (160_000 * 0.04)\n",
    "                return total\n",
    "            elif new_plan == \"Premium Plan\":\n",
    "                total = 200_000 - (200_000 * 0.04)\n",
    "                return total\n",
    "            else:\n",
    "                print(\"Plan doesn't exist\")\n",
    "        else:\n",
    "            raise Exception(\"Referral Code doesn't exist\")"
   ]
  },
  {
   "cell_type": "code",
   "execution_count": 552,
   "id": "ae1e7ad8-3c56-4e9d-a3ae-355b820054e8",
   "metadata": {},
   "outputs": [
    {
     "data": {
      "text/plain": [
       "['Basic Plan',\n",
       " 12,\n",
       " 'shandy-2134',\n",
       " 'Standard Plan',\n",
       " 24,\n",
       " 'cahya-abcd',\n",
       " 'Premium Plan',\n",
       " 5,\n",
       " 'ana-2f9g',\n",
       " 'Basic Plan',\n",
       " 11,\n",
       " 'bagus-9f92']"
      ]
     },
     "execution_count": 552,
     "metadata": {},
     "output_type": "execute_result"
    }
   ],
   "source": [
    "faizal.convert_data_to_list(data)"
   ]
  },
  {
   "cell_type": "code",
   "execution_count": 572,
   "id": "667c89d2-f56e-4ccf-8cb0-afa1a1d3f9e4",
   "metadata": {},
   "outputs": [
    {
     "data": {
      "text/plain": [
       "115200.0"
      ]
     },
     "execution_count": 572,
     "metadata": {},
     "output_type": "execute_result"
    }
   ],
   "source": [
    "# isi titik - titik di bawah ini\n",
    "faizal.pick_plan(\"Basic Plan\", \"shandy-2134\")"
   ]
  },
  {
   "cell_type": "code",
   "execution_count": null,
   "id": "9dea7c06-81aa-4f62-abfe-d4e97b88ccb9",
   "metadata": {},
   "outputs": [],
   "source": []
  }
 ],
 "metadata": {
  "kernelspec": {
   "display_name": "Python [conda env:base] *",
   "language": "python",
   "name": "conda-base-py"
  },
  "language_info": {
   "codemirror_mode": {
    "name": "ipython",
    "version": 3
   },
   "file_extension": ".py",
   "mimetype": "text/x-python",
   "name": "python",
   "nbconvert_exporter": "python",
   "pygments_lexer": "ipython3",
   "version": "3.12.7"
  }
 },
 "nbformat": 4,
 "nbformat_minor": 5
}
