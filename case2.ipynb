{
 "cells": [
  {
   "cell_type": "raw",
   "id": "75761a8b-061f-42b8-b9a5-89dfcdacd1c4",
   "metadata": {
    "scrolled": true
   },
   "source": [
    "%pip install tabulate"
   ]
  },
  {
   "cell_type": "code",
   "execution_count": 3,
   "id": "7a57fefb-d847-4689-8bbb-02983ee09d91",
   "metadata": {},
   "outputs": [],
   "source": [
    "from math import sqrt\n",
    "from tabulate import tabulate"
   ]
  },
  {
   "cell_type": "code",
   "execution_count": 46,
   "id": "bd7b3f55-2a09-4934-808c-78cc55e94bc6",
   "metadata": {},
   "outputs": [],
   "source": [
    "class Membership:\n",
    "    user_data={\n",
    "        'Sumbul':'Platinum',\n",
    "        'Ana':'Gold',\n",
    "        'Cahya':'Platinum'\n",
    "    }\n",
    "    \n",
    "    membership= {\n",
    "        'Membership': ['Platinum', 'Gold', 'Silver'],\n",
    "        'Discount' : ['15%', '10%','8%'],\n",
    "        'Another Benefit' : ['Benefit Silver + Gold + Voucher Liburan + Cashback max. 30%','Benefit Silver+Voucher Ojek Online','Voucher Makanan']\n",
    "    }\n",
    "\n",
    "    requirements = {\n",
    "        'Membership': ['Platinum', 'Gold', 'Silver'],\n",
    "        'Monthly Expense (juta)': [8, 6, 5],\n",
    "        'Monthly Income (juta)':[15,10,7]\n",
    "    }\n",
    "    \n",
    "    def __init__(self, username):\n",
    "        self.username = username\n",
    "        \n",
    "    def show_benefit(self):\n",
    "        print(\"Benefit Membership PacCommerce\")\n",
    "        print(\" \")\n",
    "        print(tabulate(self.membership, headers='keys', tablefmt='github',stralign='center'))\n",
    "\n",
    "    def show_requirements(self):\n",
    "        print(\"Requirements Membership PacCommerce\\n\")\n",
    "        print(tabulate(self.requirements, headers=keys, tablefmt='github', stralign='center'))"
   ]
  },
  {
   "cell_type": "code",
   "execution_count": 52,
   "id": "0390d64b-2c2d-45da-9952-653cdedab66e",
   "metadata": {},
   "outputs": [
    {
     "name": "stdout",
     "output_type": "stream",
     "text": [
      "{'Membership': ['Platinum', 'Gold', 'Silver'], 'Monthly Expense (juta)': [8, 6, 5], 'Monthly Income (juta)': [15, 10, 7]}\n"
     ]
    }
   ],
   "source": []
  },
  {
   "cell_type": "code",
   "execution_count": null,
   "id": "be1613bf-8790-4f68-8acb-798315d283e2",
   "metadata": {},
   "outputs": [],
   "source": []
  }
 ],
 "metadata": {
  "kernelspec": {
   "display_name": "Python [conda env:base] *",
   "language": "python",
   "name": "conda-base-py"
  },
  "language_info": {
   "codemirror_mode": {
    "name": "ipython",
    "version": 3
   },
   "file_extension": ".py",
   "mimetype": "text/x-python",
   "name": "python",
   "nbconvert_exporter": "python",
   "pygments_lexer": "ipython3",
   "version": "3.12.7"
  }
 },
 "nbformat": 4,
 "nbformat_minor": 5
}
