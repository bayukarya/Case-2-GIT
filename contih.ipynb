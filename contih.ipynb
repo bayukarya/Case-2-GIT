{
 "cells": [
  {
   "cell_type": "code",
   "execution_count": 15,
   "id": "22460e67-0841-4f19-b503-23e1407479af",
   "metadata": {},
   "outputs": [],
   "source": [
    "blog_posts = [{'Photos': 3, 'Likes': 21, 'Comments': 2},\n",
    "              {'Likes': 13, 'Comments': 2, 'Shares': 1},\n",
    "              {'Photos': 5, 'Likes': 33, 'Comments': 8, 'Shares': 3},\n",
    "              {'Comments': 4, 'Shares': 2},\n",
    "              {'Photos': 8, 'Comments': 1, 'Shares': 1},\n",
    "              {'Photos': 3, 'Likes': 19, 'Comments': 3}]"
   ]
  }
 ],
 "metadata": {
  "kernelspec": {
   "display_name": "Python [conda env:base] *",
   "language": "python",
   "name": "conda-base-py"
  },
  "language_info": {
   "codemirror_mode": {
    "name": "ipython",
    "version": 3
   },
   "file_extension": ".py",
   "mimetype": "text/x-python",
   "name": "python",
   "nbconvert_exporter": "python",
   "pygments_lexer": "ipython3",
   "version": "3.12.7"
  }
 },
 "nbformat": 4,
 "nbformat_minor": 5
}
